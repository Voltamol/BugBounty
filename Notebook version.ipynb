{
 "cells": [
  {
   "cell_type": "markdown",
   "id": "a0b74499-84c2-45d3-bdb0-0aa8dcf41318",
   "metadata": {
    "canvas": {
     "comments": [],
     "componentType": "CodeCell",
     "copiedOriginId": null,
     "diskcache": false,
     "headerColor": "transparent",
     "id": "f99daac2-e8be-44a1-8aa7-621bef0da13b",
     "isComponent": false,
     "name": "",
     "parents": []
    }
   },
   "source": []
  },
  {
   "cell_type": "code",
   "execution_count": null,
   "id": "bf201a9e-89c4-4857-b5ae-48d2f9b1d934",
   "metadata": {
    "canvas": {
     "comments": [],
     "componentType": "CodeCell",
     "copiedOriginId": null,
     "diskcache": false,
     "headerColor": "transparent",
     "id": "3b66b009-f6a6-46eb-9c0a-4c58860dae0b",
     "isComponent": true,
     "name": "installing required libraries",
     "parents": []
    },
    "tags": []
   },
   "outputs": [
    {
     "name": "stdout",
     "output_type": "stream",
     "text": [
      "Requirement already satisfied: pylint in c:\\users\\t470p\\anaconda3\\envs\\ml\\lib\\site-packages (2.17.5)"
     ]
    }
   ],
   "source": [
    "! pip install pylint fpdf"
   ]
  },
  {
   "cell_type": "markdown",
   "id": "fa37ad31-0d8c-4087-919a-aae8b9934e71",
   "metadata": {
    "canvas": {
     "comments": [],
     "componentType": "CodeCell",
     "copiedOriginId": null,
     "diskcache": false,
     "headerColor": "transparent",
     "id": "afdb38b2-b48f-498b-ba43-11138104c112",
     "isComponent": false,
     "name": "",
     "parents": []
    }
   },
   "source": [
    "# Importing necessary modules:"
   ]
  },
  {
   "cell_type": "code",
   "execution_count": null,
   "id": "8ba07a76-251a-48c6-96ae-9b97362e7f1f",
   "metadata": {
    "canvas": {
     "comments": [],
     "componentType": "CodeCell",
     "copiedOriginId": null,
     "diskcache": false,
     "headerColor": "transparent",
     "id": "96c3c136-0bb7-4353-9ccb-1bf8c1fe5d7e",
     "isComponent": true,
     "name": "Importing necessary modules",
     "parents": [
      {
       "id": "3b66b009-f6a6-46eb-9c0a-4c58860dae0b",
       "name": "installing required libraries"
      }
     ]
    },
    "tags": []
   },
   "outputs": [],
   "source": [
    "\n",
    "import os\n",
    "import subprocess\n",
    "from pylint import epylint as lint\n",
    "from fpdf import FPDF"
   ]
  },
  {
   "cell_type": "code",
   "execution_count": null,
   "id": "5e6494dc-f772-433e-b482-725a26398b79",
   "metadata": {
    "canvas": {
     "comments": [],
     "componentType": "CodeCell",
     "copiedOriginId": null,
     "diskcache": false,
     "headerColor": "transparent",
     "id": "26ec0d1a-a221-4e08-bab7-1676eb68ada5",
     "isComponent": true,
     "name": "getting root path",
     "parents": [
      {
       "id": "96c3c136-0bb7-4353-9ccb-1bf8c1fe5d7e",
       "name": "Importing necessary modules"
      }
     ]
    },
    "tags": []
   },
   "outputs": [],
   "source": [
    "current=os.getcwd()"
   ]
  },
  {
   "cell_type": "code",
   "execution_count": null,
   "id": "89841c45-2916-4fa9-a0ce-8ca973ee199b",
   "metadata": {
    "canvas": {
     "comments": [],
     "componentType": "CodeCell",
     "copiedOriginId": null,
     "diskcache": false,
     "headerColor": "transparent",
     "id": "8656132b-d1c5-4ce5-a33f-a50523ff5aff",
     "isComponent": true,
     "name": "function to scan project folde",
     "parents": [
      {
       "id": "96c3c136-0bb7-4353-9ccb-1bf8c1fe5d7e",
       "name": "Importing necessary modules"
      }
     ]
    },
    "tags": []
   },
   "outputs": [],
   "source": [
    "def scan_project(folder_path):\n",
    "    pylint_options = '--output-format=parseable'\n",
    "    (pylint_stdout, _) = lint.py_run(f'{folder_path} {pylint_options}', return_std=True)\n",
    "    return pylint_stdout.getvalue()"
   ]
  },
  {
   "cell_type": "code",
   "execution_count": null,
   "id": "9b38fbae-f673-44c3-a0ff-674289ac672a",
   "metadata": {
    "canvas": {
     "comments": [],
     "componentType": "CodeCell",
     "copiedOriginId": null,
     "diskcache": false,
     "headerColor": "transparent",
     "id": "9ded0d5e-45e0-4899-a666-ec9911fb2fd2",
     "isComponent": true,
     "name": "report generation function",
     "parents": [
      {
       "id": "96c3c136-0bb7-4353-9ccb-1bf8c1fe5d7e",
       "name": "Importing necessary modules"
      }
     ]
    },
    "tags": []
   },
   "outputs": [],
   "source": [
    "def generate_pdf_report(scan_results, output_path):\n",
    "    pdf = FPDF()\n",
    "    pdf.add_page()\n",
    "    pdf.set_font(\"Arial\", size=12)\n",
    "    pdf.multi_cell(0, 10, scan_results)\n",
    "    pdf.output(output_path)"
   ]
  },
  {
   "cell_type": "code",
   "execution_count": null,
   "id": "ff0111f0-2c9f-4b31-9afb-e471afdf76a9",
   "metadata": {
    "canvas": {
     "comments": [],
     "componentType": "CodeCell",
     "copiedOriginId": null,
     "diskcache": false,
     "headerColor": "transparent",
     "id": "830a6141-7789-418f-abe7-0659321e2a69",
     "isComponent": true,
     "name": "source and output paths",
     "parents": [
      {
       "id": "96c3c136-0bb7-4353-9ccb-1bf8c1fe5d7e",
       "name": "Importing necessary modules"
      },
      {
       "id": "26ec0d1a-a221-4e08-bab7-1676eb68ada5",
       "name": "getting root path"
      }
     ]
    },
    "tags": []
   },
   "outputs": [],
   "source": [
    "\n",
    "project_folder = input('enter path to project folder: ')\n",
    "output_file = input('enter output path: ')\n",
    "output_file=os.path.join(current,output_file)"
   ]
  },
  {
   "cell_type": "code",
   "execution_count": 2,
   "id": "b6d0331a-6a8b-4026-80b9-c69622adccd9",
   "metadata": {
    "canvas": {
     "comments": [],
     "componentType": "CodeCell",
     "copiedOriginId": null,
     "diskcache": false,
     "headerColor": "transparent",
     "id": "587d42b8-5b5c-44fa-bbcc-49c0b4cc5ff1",
     "isComponent": true,
     "name": "running the program",
     "parents": [
      {
       "id": "8656132b-d1c5-4ce5-a33f-a50523ff5aff",
       "name": "function to scan project folde"
      },
      {
       "id": "9ded0d5e-45e0-4899-a666-ec9911fb2fd2",
       "name": "report generation function"
      },
      {
       "id": "830a6141-7789-418f-abe7-0659321e2a69",
       "name": "source and output paths"
      }
     ]
    },
    "tags": []
   },
   "outputs": [
    {
     "name": "stderr",
     "output_type": "stream",
     "text": [
      "C:\\Users\\t470p\\AppData\\Local\\Temp\\ipykernel_4352\\210879322.py:3: DeprecationWarning: 'epylint' will be removed in pylint 3.0, use https://github.com/emacsorphanage/pylint instead.\n",
      "  (pylint_stdout, _) = lint.py_run(f\"{folder_path} {pylint_options}\", return_std=True)\n"
     ]
    }
   ],
   "source": [
    "\"\"\"\n",
    "calling the scan_project function to get the scan results\n",
    "and then passing those results to the generate_pdf_report function to generate the PDF report\n",
    "\"\"\"\n",
    "\n",
    "scan_results = scan_project(project_folder)\n",
    "generate_pdf_report(scan_results, output_file)"
   ]
  }
 ],
 "metadata": {
  "canvas": {
   "colorPalette": [
    "inherit",
    "inherit",
    "inherit",
    "inherit",
    "inherit",
    "inherit",
    "inherit",
    "inherit",
    "inherit",
    "inherit"
   ],
   "parameters": []
  },
  "kernelspec": {
   "display_name": "Python 3 (ipykernel)",
   "language": "python",
   "name": "python3"
  },
  "language_info": {
   "codemirror_mode": {
    "name": "ipython",
    "version": 3
   },
   "file_extension": ".py",
   "mimetype": "text/x-python",
   "name": "python",
   "nbconvert_exporter": "python",
   "pygments_lexer": "ipython3",
   "version": "3.10.12"
  }
 },
 "nbformat": 4,
 "nbformat_minor": 5
}
